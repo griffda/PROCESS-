{
 "cells": [
  {
   "cell_type": "markdown",
   "metadata": {},
   "source": [
    "# Process examples\n",
    "A Jupyter notebook to demonstrate usage of the `process` package. This notebook has also been exported as a Python script to `examples.py`.\n",
    "\n",
    "## Motivation\n",
    "Process is moving away from being a runnable package with a single command-line entry-point to an importable package which can be scripted. This notebook is a good way of demonstrating the functionality of the package, and could provide a better way of working for modellers, who may wish to create their own scripts or notebooks for different tasks.\n",
    "\n",
    "## Basic run of Process\n",
    "Run Process on an input file using the `SingleRun` class. This outputs an `MFILE.DAT` and an `OUT.DAT`."
   ]
  },
  {
   "cell_type": "code",
   "execution_count": 1,
   "metadata": {},
   "outputs": [
    {
     "name": "stdout",
     "output_type": "stream",
     "text": [
      " \n",
      " **************************************************************************************************************\n",
      " ************************************************** PROCESS ***************************************************\n",
      " ************************************** Power Reactor Optimisation Code ***************************************\n",
      " **************************************************************************************************************\n",
      " \n",
      "   Program :\n",
      "   Version : 2.2.0   Release Date :: 2021-10-26\n",
      "   Tag No. : v2.1-949-g1553ebcc code contains untracked changes\n",
      "    Branch : 1487-create-example-jupyter-notebook\n",
      "   Git log : Add\\ jupyter\\ and\\ pdf2image\\ requirements\n",
      " Date/time : 30 Nov 2021  9:17:19 +00:00(hh:mm) UTC\n",
      "      User : jon\n",
      "  Computer : jon-Precision-3560\n",
      " Directory : /home/jon/code/process\n",
      "     Input : /home/jon/code/process/tracking/baseline_2018/baseline_2018_IN.DAT\n",
      " Run title : Run Title (change this line using input variable 'runtitle')\n",
      "  Run type : Reactor concept design: Pulsed tokamak model, (c) CCFE\n",
      " \n",
      " **************************************************************************************************************\n",
      " \n",
      "   Equality constraints : 24\n",
      " Inequality constraints : 00\n",
      "      Total constraints : 24\n",
      "    Iteration variables : 40\n",
      "         Max iterations : 200\n",
      "       Figure of merit  : +01  -- minimise major radius.\n",
      "  Convergence parameter : 1.00E-08\n",
      " \n",
      " **************************************************************************************************************\n",
      " \n",
      " \n",
      " ************************************* PROCESS found a feasible solution **************************************\n",
      " \n",
      " \n",
      " ******************************************** Errors and Warnings *********************************************\n",
      " \n",
      " PROCESS status flag:   Warning messages                                  \n",
      " \n",
      " ID  LEVEL  MESSAGE\n",
      "150     2   CHECK: Lower limit of volume averaged electron temperature (te) has been raised \n",
      "  \n",
      "155     2   CHECK: dene used as iteration variable without constraint 81 (neped<ne0)        \n",
      "  \n",
      "244     2   PHYSICS: Diamagnetic fraction is more than 1%, but not calculated. Consider usin\n",
      "  \n",
      "135     1   OUTPF: CS not using max current density: further optimisation may be possible   \n",
      "  \n",
      " \n",
      " ******************************************* End of PROCESS Output ********************************************\n",
      " \n"
     ]
    }
   ],
   "source": [
    "import process\n",
    "from process.main import SingleRun\n",
    "from pathlib import Path\n",
    "\n",
    "# Define working directory relative to project dir and input file name\n",
    "wdir_rel = Path(\"tracking/baseline_2018\")\n",
    "input_name = \"baseline_2018_IN.DAT\"\n",
    "\n",
    "proj_dir = Path(process.__file__).parent.parent\n",
    "wdir_abs = proj_dir / wdir_rel\n",
    "input_path = wdir_abs / input_name\n",
    "\n",
    "# Run process on an input file\n",
    "single_run = SingleRun(str(input_path))\n"
   ]
  },
  {
   "cell_type": "markdown",
   "metadata": {},
   "source": [
    "## Plot summary\n",
    "Create a summary PDF of the generated `MFILE.DAT` using `plot_proc`."
   ]
  },
  {
   "cell_type": "code",
   "execution_count": 2,
   "metadata": {},
   "outputs": [
    {
     "name": "stderr",
     "output_type": "stream",
     "text": [
      "Key 'nbshield' not in MFILE. KeyError! Check MFILE\n",
      "Key 'rtanbeam' not in MFILE. KeyError! Check MFILE\n",
      "Key 'rtanmax' not in MFILE. KeyError! Check MFILE\n",
      "Key 'alstrtf' not in MFILE. KeyError! Check MFILE\n",
      "Key 'coe' not in MFILE. KeyError! Check MFILE\n"
     ]
    }
   ],
   "source": [
    "from process.io import plot_proc\n",
    "from pdf2image import convert_from_path\n",
    "\n",
    "# Create a summary PDF\n",
    "plot_proc.main(args=[\"-f\", str(single_run.mfile_path)])\n",
    "\n",
    "# Convert PDF to PNG in order to display in notebook\n",
    "summary_pdf = str(single_run.mfile_path) + \"SUMMARY.pdf\"\n",
    "pages = convert_from_path(summary_pdf)\n",
    "for page_no, page_image in enumerate(pages):\n",
    "    png_path = wdir_abs / f\"plot_proc_{page_no + 1}.png\"\n",
    "    page_image.save(png_path, \"PNG\")\n"
   ]
  },
  {
   "cell_type": "markdown",
   "metadata": {},
   "source": [
    "`plot_proc`'s PDF output.\n",
    "\n",
    "<img src=\"tracking/baseline_2018/plot_proc_1.png\" width=\"1000\">\n",
    "<img src=\"tracking/baseline_2018/plot_proc_2.png\" width=\"1000\">"
   ]
  },
  {
   "cell_type": "markdown",
   "metadata": {},
   "source": [
    "## View key output variables\n",
    "Run the Starfire scenario using `SingleRun` to set some values on the `CostsStep` instance and then print them."
   ]
  },
  {
   "cell_type": "code",
   "execution_count": 3,
   "metadata": {},
   "outputs": [
    {
     "name": "stdout",
     "output_type": "stream",
     "text": [
      " \n",
      " **************************************************************************************************************\n",
      " ************************************************** PROCESS ***************************************************\n",
      " ************************************** Power Reactor Optimisation Code ***************************************\n",
      " **************************************************************************************************************\n",
      " \n",
      "   Program :\n",
      "   Version : 2.2.0   Release Date :: 2021-10-26\n",
      "   Tag No. : v2.1-949-g1553ebcc code contains untracked changes\n",
      "    Branch : 1487-create-example-jupyter-notebook\n",
      "   Git log : Add\\ jupyter\\ and\\ pdf2image\\ requirements\n",
      " Date/time : 30 Nov 2021  9:17:26 +00:00(hh:mm) UTC\n",
      "      User : jon\n",
      "  Computer : jon-Precision-3560\n",
      " Directory : /home/jon/code/process\n",
      "     Input : /home/jon/code/process/tests/regression/scenarios/starfire/IN.DAT\n",
      " Run title : starfire\n",
      "  Run type : Reactor concept design: Steady-state tokamak model, (c) CCFE\n",
      " \n",
      " **************************************************************************************************************\n",
      " \n",
      "   Equality constraints : 12\n",
      " Inequality constraints : 00\n",
      "      Total constraints : 12\n",
      "    Iteration variables : 26\n",
      "         Max iterations : 200\n",
      "       Figure of merit  : -05  -- maximise fusion gain.\n",
      "  Convergence parameter : 1.00E-08\n",
      " \n",
      " **************************************************************************************************************\n",
      " \n",
      " \n",
      " ************************************* PROCESS found a feasible solution **************************************\n",
      " \n",
      " \n",
      " ******************************************** Errors and Warnings *********************************************\n",
      " \n",
      " PROCESS status flag:   Warning messages                                  \n",
      " \n",
      " ID  LEVEL  MESSAGE\n",
      "244     2   PHYSICS: Diamagnetic fraction is more than 1%, but not calculated. Consider usin\n",
      "  \n",
      " 62     1   RADIALB: Ripple result may be inaccurate, as the fit has been extrapolated      \n",
      "  \n",
      "142     1   RADIALB: (TF coil ripple calculation) No of TF coils not between 16 and 20 inclu\n",
      " Integer diagnostic values for this error:\n",
      "   1)             12\n",
      "  \n",
      "135     1   OUTPF: CS not using max current density: further optimisation may be possible   \n",
      "  \n",
      " \n",
      " ******************************************* End of PROCESS Output ********************************************\n",
      " \n"
     ]
    }
   ],
   "source": [
    "# Define working directory relative to project dir and input file name\n",
    "wdir_rel = Path(\"tests/regression/scenarios/starfire\")\n",
    "input_name = \"IN.DAT\"\n",
    "\n",
    "wdir_abs_starfire = proj_dir / wdir_rel\n",
    "input_path = wdir_abs_starfire / input_name\n",
    "\n",
    "# Run process on an input file\n",
    "single_run = SingleRun(str(input_path))\n"
   ]
  },
  {
   "cell_type": "code",
   "execution_count": 4,
   "metadata": {},
   "outputs": [
    {
     "name": "stdout",
     "output_type": "stream",
     "text": [
      "Building and Site Service Infrastructure: 2.738e+03 M$\n",
      "Reactor plant equipment: 1.251e+04 M$\n"
     ]
    }
   ],
   "source": [
    "print(\n",
    "    f\"Building and Site Service Infrastructure: {single_run.models.costs_step.step21:.3e} M$\"\n",
    ")\n",
    "print(f\"Reactor plant equipment: {single_run.models.costs_step.step22:.3e} M$\")\n"
   ]
  },
  {
   "cell_type": "markdown",
   "metadata": {},
   "source": [
    "## VaryRun\n",
    "Vary iteration parameters until a feasible solution is found, using the `VaryRun` class."
   ]
  },
  {
   "cell_type": "code",
   "execution_count": 5,
   "metadata": {},
   "outputs": [
    {
     "name": "stdout",
     "output_type": "stream",
     "text": [
      "\n",
      "Working directory:   /home/jon/code/process/tests/integration/data\n",
      "Original IN.DAT:     /home/jon/code/process/tests/integration/data/ref_IN.DAT\n",
      "PROCESS binary:      process.exe\n",
      "Number of iterations 1000\n",
      "variable range factor 1.9\n",
      "Config file          /home/jon/code/process/tests/integration/data/run_process.conf\n",
      "Comment   ipedestal = 1, with other variables appropriate for running PLASMOD\n",
      "\n",
      "no. allowed UNFEASIBLE points 0\n",
      "\n"
     ]
    },
    {
     "name": "stderr",
     "output_type": "stream",
     "text": [
      "cp: '/home/jon/code/process/tests/integration/data/run_process.conf' and '/home/jon/code/process/tests/integration/data/run_process.conf' are the same file\n",
      "Warning: Line below is causing a problem. Check that line in IN.DAT is valid. Line skipped!\n",
      "ratecdol = 0.06 * Effective cost of money in constant dollars\n",
      "\n",
      "Warning: Line below is causing a problem. Check that line in IN.DAT is valid. Line skipped!\n",
      "alstrtf  = 5.8E8 * allowable stress in TF coil (Pa)\n",
      "\n"
     ]
    },
    {
     "name": "stdout",
     "output_type": "stream",
     "text": [
      "0 PROCESS run started ...finished.\n",
      "\n",
      "There were warnings in the final PROCESS run. Please check the log file!\n",
      "\n"
     ]
    }
   ],
   "source": [
    "from process.main import VaryRun\n",
    "\n",
    "wdir_rel = Path(\"tests/integration/data\")\n",
    "conf_name = \"run_process.conf\"\n",
    "\n",
    "wdir_abs_vary = proj_dir / wdir_rel\n",
    "conf_path = wdir_abs_vary / conf_name\n",
    "vary_run = VaryRun(str(conf_path))"
   ]
  },
  {
   "cell_type": "markdown",
   "metadata": {},
   "source": [
    "## Clean up\n",
    "Currently files are created in locations that can't be easily controlled; this will be changed to a temporary directory with ongoing development. For now, clean these manually here."
   ]
  },
  {
   "cell_type": "code",
   "execution_count": 6,
   "metadata": {},
   "outputs": [],
   "source": [
    "from os import remove\n",
    "\n",
    "# TODO This obviously needs sorting out\n",
    "# Delete SingleRun baseline2019 files\n",
    "delete = (\n",
    "    \"baseline_2018_MFILE.DAT\",\n",
    "    \"baseline_2018_OPT.DAT\",\n",
    "    \"baseline_2018_OUT.DAT\",\n",
    "    \"baseline_2018_PLOT.DAT\",\n",
    "    \"baseline_2018_SIG_TF.DAT\",\n",
    "    \"baseline_2018_MFILE.DATSUMMARY.png\",\n",
    "    \"plot_proc_1.png\",\n",
    "    \"plot_proc_2.png\",\n",
    ")\n",
    "\n",
    "for file in wdir_abs.glob(\"*\"):\n",
    "    if file.name in delete:\n",
    "        remove(file)\n",
    "\n",
    "# Delete VaryRun files\n",
    "delete = (\n",
    "    \"IN.DAT\",\n",
    "    \"OPT.DAT\",\n",
    "    \"SIG_TF.DAT\",\n",
    "    \"README.txt\",\n",
    ")\n",
    "\n",
    "for file in wdir_abs_vary.glob(\"*\"):\n",
    "    if file.name in delete:\n",
    "        remove(file)\n"
   ]
  }
 ],
 "metadata": {
  "interpreter": {
   "hash": "95e8614a6e18ad6e528160ac32f08bcfa19db99daf3816cbd89c3976c3924301"
  },
  "kernelspec": {
   "display_name": "Python 3.8.10 64-bit ('.venv': venv)",
   "language": "python",
   "name": "python3"
  },
  "language_info": {
   "codemirror_mode": {
    "name": "ipython",
    "version": 3
   },
   "file_extension": ".py",
   "mimetype": "text/x-python",
   "name": "python",
   "nbconvert_exporter": "python",
   "pygments_lexer": "ipython3",
   "version": "3.8.10"
  },
  "orig_nbformat": 4
 },
 "nbformat": 4,
 "nbformat_minor": 2
}
