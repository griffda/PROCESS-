{
 "cells": [
  {
   "cell_type": "markdown",
   "metadata": {},
   "source": [
    "# Process examples\n",
    "A Jupyter notebook to demonstrate usage of the `process` package. This notebook has also been exported as a Python script to `examples.py`.\n",
    "\n",
    "## Motivation\n",
    "Process is moving away from being a runnable package with a single command-line entry-point to an importable package which can be scripted. This notebook is a good way of demonstrating the functionality of the package, and could provide a better way of working for modellers, who may wish to create their own scripts or notebooks for different tasks.\n",
    "\n",
    "## Setup\n",
    "Currently the various classes and \"utilities\" scripts in Process have different interfaces and read and write files in differing manners and in locations that can't be easily controlled. To partially avoid the headaches associated with this, the code cell below defines a function to allow each example to be run in a temporary directory, much like a test. Input files are copied to this temporary directory and outputs contained there before the directory is removed.\n",
    "\n",
    "This temporary directory function is only required for running the examples below and removing any modifications afterwards, not in regular use of Process where the outputs will want to be preserved. Further development work will unify these disparate ways of running Process into a common Pythonic form."
   ]
  },
  {
   "cell_type": "code",
   "execution_count": 1,
   "metadata": {},
   "outputs": [],
   "source": [
    "import process\n",
    "from pathlib import Path\n",
    "from tempfile import TemporaryDirectory\n",
    "from shutil import copy\n",
    "\n",
    "# Define project root dir\n",
    "proj_dir = Path(process.__file__).parent.parent\n",
    "\n",
    "\n",
    "def copy_to_temp_dir(input_rel):\n",
    "    \"\"\"Copy an input file to a new temp dir and return its new path.\n",
    "\n",
    "    The new TemporaryDirectory object is returned to avoid destruction of the\n",
    "    object, which results in deletion of the directory prematurely. This way\n",
    "    the cleanup() method can be used to delete the directory when required.\n",
    "    :param input_rel: file path relative to project root dir\n",
    "    :type input_rel: str\n",
    "    :return: temporary dir and absolute path to file in temp dir\n",
    "    :rtype: (TemporaryDirectory, pathlib.Path)\n",
    "    \"\"\"\n",
    "    # Create temporary dir to contain the run's outputs\n",
    "    temp_dir = TemporaryDirectory()\n",
    "    temp_dir_path = Path(temp_dir.name)\n",
    "\n",
    "    # Define absolute path for input file\n",
    "    input_rel_path = Path(input_rel)\n",
    "    input_abs_path = proj_dir / input_rel_path\n",
    "\n",
    "    try:\n",
    "        assert input_abs_path.exists()\n",
    "    except AssertionError:\n",
    "        raise FileNotFoundError(\"Input file doesn't exist.\")\n",
    "\n",
    "    # Copy input file to temp dir\n",
    "    copy(input_abs_path, temp_dir_path)\n",
    "    temp_input_path = temp_dir_path / input_abs_path.name\n",
    "\n",
    "    return temp_dir, temp_input_path\n"
   ]
  },
  {
   "cell_type": "markdown",
   "metadata": {},
   "source": [
    "\n",
    "## Basic run of Process\n",
    "Run Process on an input file using the `SingleRun` class. This outputs an `MFILE.DAT` and an `OUT.DAT`."
   ]
  },
  {
   "cell_type": "code",
   "execution_count": 2,
   "metadata": {},
   "outputs": [
    {
     "name": "stdout",
     "output_type": "stream",
     "text": [
      " \n",
      " **************************************************************************************************************\n",
      " ************************************************** PROCESS ***************************************************\n",
      " ************************************** Power Reactor Optimisation Code ***************************************\n",
      " **************************************************************************************************************\n",
      " \n",
      "   Program :\n",
      "   Version : 2.2.0   Release Date :: 2021-10-26\n",
      "   Tag No. : v2.1-949-g1553ebcc code contains untracked changes\n",
      "    Branch : 1487-create-example-jupyter-notebook\n",
      "   Git log : Add\\ jupyter\\ and\\ pdf2image\\ requirements\n",
      " Date/time : 30 Nov 2021 17:17:59 +00:00(hh:mm) UTC\n",
      "      User : jon\n",
      "  Computer : jon-Precision-3560\n",
      " Directory : /home/jon/code/process\n",
      "     Input : /tmp/tmpiejq6vqf/baseline_2018_IN.DAT\n",
      " Run title : Run Title (change this line using input variable 'runtitle')\n",
      "  Run type : Reactor concept design: Pulsed tokamak model, (c) CCFE\n",
      " \n",
      " **************************************************************************************************************\n",
      " \n",
      "   Equality constraints : 24\n",
      " Inequality constraints : 00\n",
      "      Total constraints : 24\n",
      "    Iteration variables : 40\n",
      "         Max iterations : 200\n",
      "       Figure of merit  : +01  -- minimise major radius.\n",
      "  Convergence parameter : 1.00E-08\n",
      " \n",
      " **************************************************************************************************************\n",
      " \n",
      " \n",
      " ************************************* PROCESS found a feasible solution **************************************\n",
      " \n",
      " \n",
      " ******************************************** Errors and Warnings *********************************************\n",
      " \n",
      " PROCESS status flag:   Warning messages                                  \n",
      " \n",
      " ID  LEVEL  MESSAGE\n",
      "150     2   CHECK: Lower limit of volume averaged electron temperature (te) has been raised \n",
      "  \n",
      "155     2   CHECK: dene used as iteration variable without constraint 81 (neped<ne0)        \n",
      "  \n",
      "244     2   PHYSICS: Diamagnetic fraction is more than 1%, but not calculated. Consider usin\n",
      "  \n",
      "135     1   OUTPF: CS not using max current density: further optimisation may be possible   \n",
      "  \n",
      " \n",
      " ******************************************* End of PROCESS Output ********************************************\n",
      " \n"
     ]
    }
   ],
   "source": [
    "from process.main import SingleRun\n",
    "\n",
    "# Define input file name relative to project dir, then copy to temp dir\n",
    "input_rel = \"tracking/baseline_2018/baseline_2018_IN.DAT\"\n",
    "temp_dir, temp_input_path = copy_to_temp_dir(input_rel)\n",
    "\n",
    "# Run process on an input file in a temporary directory\n",
    "single_run = SingleRun(str(temp_input_path))\n"
   ]
  },
  {
   "cell_type": "markdown",
   "metadata": {},
   "source": [
    "## Plot summary\n",
    "Create a summary PDF of the generated `MFILE.DAT` using `plot_proc`."
   ]
  },
  {
   "cell_type": "code",
   "execution_count": 3,
   "metadata": {},
   "outputs": [
    {
     "name": "stderr",
     "output_type": "stream",
     "text": [
      "Key 'nbshield' not in MFILE. KeyError! Check MFILE\n",
      "Key 'rtanbeam' not in MFILE. KeyError! Check MFILE\n",
      "Key 'rtanmax' not in MFILE. KeyError! Check MFILE\n",
      "Key 'alstrtf' not in MFILE. KeyError! Check MFILE\n",
      "Key 'coe' not in MFILE. KeyError! Check MFILE\n"
     ]
    }
   ],
   "source": [
    "from process.io import plot_proc\n",
    "from pdf2image import convert_from_path\n",
    "\n",
    "# Create a summary PDF\n",
    "plot_proc.main(args=[\"-f\", str(single_run.mfile_path)])\n",
    "\n",
    "# Convert PDF to PNG in order to display in notebook\n",
    "summary_pdf = str(single_run.mfile_path) + \"SUMMARY.pdf\"\n",
    "pages = convert_from_path(summary_pdf)\n",
    "for page_no, page_image in enumerate(pages):\n",
    "    png_path = temp_input_path.parent / f\"plot_proc_{page_no + 1}.png\"\n",
    "    page_image.save(png_path, \"PNG\")\n",
    "\n",
    "# TODO Can't display the markdown pngs below due to temp_input_path being variable\n"
   ]
  },
  {
   "cell_type": "markdown",
   "metadata": {},
   "source": [
    "`plot_proc`'s PDF output.\n",
    "\n",
    "<img src=\"tracking/baseline_2018/plot_proc_1.png\" width=\"1000\">\n",
    "<img src=\"tracking/baseline_2018/plot_proc_2.png\" width=\"1000\">"
   ]
  },
  {
   "cell_type": "code",
   "execution_count": 4,
   "metadata": {},
   "outputs": [],
   "source": [
    "# Delete temp dir\n",
    "temp_dir.cleanup()\n"
   ]
  },
  {
   "cell_type": "markdown",
   "metadata": {},
   "source": [
    "## View key output variables\n",
    "Run the Starfire scenario using `SingleRun` to set some values on the `CostsStep` instance and then print them."
   ]
  },
  {
   "cell_type": "code",
   "execution_count": 5,
   "metadata": {},
   "outputs": [
    {
     "name": "stdout",
     "output_type": "stream",
     "text": [
      " \n",
      " **************************************************************************************************************\n",
      " ************************************************** PROCESS ***************************************************\n",
      " ************************************** Power Reactor Optimisation Code ***************************************\n",
      " **************************************************************************************************************\n",
      " \n",
      "   Program :\n",
      "   Version : 2.2.0   Release Date :: 2021-10-26\n",
      "   Tag No. : v2.1-949-g1553ebcc code contains untracked changes\n",
      "    Branch : 1487-create-example-jupyter-notebook\n",
      "   Git log : Add\\ jupyter\\ and\\ pdf2image\\ requirements\n",
      " Date/time : 30 Nov 2021 17:18:06 +00:00(hh:mm) UTC\n",
      "      User : jon\n",
      "  Computer : jon-Precision-3560\n",
      " Directory : /home/jon/code/process\n",
      "     Input : /tmp/tmpzdg5du00/IN.DAT\n",
      " Run title : starfire\n",
      "  Run type : Reactor concept design: Steady-state tokamak model, (c) CCFE\n",
      " \n",
      " **************************************************************************************************************\n",
      " \n",
      "   Equality constraints : 12\n",
      " Inequality constraints : 00\n",
      "      Total constraints : 12\n",
      "    Iteration variables : 26\n",
      "         Max iterations : 200\n",
      "       Figure of merit  : -05  -- maximise fusion gain.\n",
      "  Convergence parameter : 1.00E-08\n",
      " \n",
      " **************************************************************************************************************\n",
      " \n",
      " \n",
      " ************************************* PROCESS found a feasible solution **************************************\n",
      " \n",
      " \n",
      " ******************************************** Errors and Warnings *********************************************\n",
      " \n",
      " PROCESS status flag:   Warning messages                                  \n",
      " \n",
      " ID  LEVEL  MESSAGE\n",
      "244     2   PHYSICS: Diamagnetic fraction is more than 1%, but not calculated. Consider usin\n",
      "  \n",
      " 62     1   RADIALB: Ripple result may be inaccurate, as the fit has been extrapolated      \n",
      "  \n",
      "142     1   RADIALB: (TF coil ripple calculation) No of TF coils not between 16 and 20 inclu\n",
      " Integer diagnostic values for this error:\n",
      "   1)             12\n",
      "  \n",
      "135     1   OUTPF: CS not using max current density: further optimisation may be possible   \n",
      "  \n",
      " \n",
      " ******************************************* End of PROCESS Output ********************************************\n",
      " \n"
     ]
    }
   ],
   "source": [
    "# Define input file name relative to project dir\n",
    "input_rel = \"tests/regression/scenarios/starfire/IN.DAT\"\n",
    "temp_dir, temp_input_path = copy_to_temp_dir(input_rel)\n",
    "\n",
    "# Run process on an input file\n",
    "single_run = SingleRun(str(temp_input_path))\n"
   ]
  },
  {
   "cell_type": "code",
   "execution_count": 6,
   "metadata": {},
   "outputs": [
    {
     "name": "stdout",
     "output_type": "stream",
     "text": [
      "Building and Site Service Infrastructure: 2.738e+03 M$\n",
      "Reactor plant equipment: 1.251e+04 M$\n"
     ]
    }
   ],
   "source": [
    "# Print some values on the CostsStep instance\n",
    "print(\n",
    "    f\"Building and Site Service Infrastructure: {single_run.models.costs_step.step21:.3e} M$\"\n",
    ")\n",
    "print(f\"Reactor plant equipment: {single_run.models.costs_step.step22:.3e} M$\")\n"
   ]
  },
  {
   "cell_type": "code",
   "execution_count": 7,
   "metadata": {},
   "outputs": [],
   "source": [
    "# Clean up\n",
    "temp_dir.cleanup()\n"
   ]
  },
  {
   "cell_type": "markdown",
   "metadata": {},
   "source": [
    "## VaryRun\n",
    "Vary iteration parameters until a feasible solution is found, using the `VaryRun` class."
   ]
  },
  {
   "cell_type": "code",
   "execution_count": 8,
   "metadata": {},
   "outputs": [
    {
     "name": "stdout",
     "output_type": "stream",
     "text": [
      "\n",
      "Working directory:   /tmp/tmpwsiqdw9k\n",
      "Original IN.DAT:     /tmp/tmpwsiqdw9k/ref_IN.DAT\n",
      "PROCESS binary:      process.exe\n",
      "Number of iterations 1000\n",
      "variable range factor 1.9\n",
      "Config file          /tmp/tmpwsiqdw9k/run_process.conf\n",
      "Comment   ipedestal = 1, with other variables appropriate for running PLASMOD\n",
      "\n",
      "no. allowed UNFEASIBLE points 0\n",
      "\n"
     ]
    },
    {
     "name": "stderr",
     "output_type": "stream",
     "text": [
      "cp: '/tmp/tmpwsiqdw9k/run_process.conf' and '/tmp/tmpwsiqdw9k/run_process.conf' are the same file\n",
      "Warning: Line below is causing a problem. Check that line in IN.DAT is valid. Line skipped!\n",
      "ratecdol = 0.06 * Effective cost of money in constant dollars\n",
      "\n",
      "Warning: Line below is causing a problem. Check that line in IN.DAT is valid. Line skipped!\n",
      "alstrtf  = 5.8E8 * allowable stress in TF coil (Pa)\n",
      "\n"
     ]
    },
    {
     "name": "stdout",
     "output_type": "stream",
     "text": [
      "0 PROCESS run started ...finished.\n",
      "\n",
      "There were warnings in the final PROCESS run. Please check the log file!\n",
      "\n"
     ]
    }
   ],
   "source": [
    "from process.main import VaryRun\n",
    "import os\n",
    "\n",
    "input_rel = \"tests/integration/data/run_process.conf\"\n",
    "temp_dir, temp_input_path = copy_to_temp_dir(input_rel)\n",
    "\n",
    "# .conf file relies on a separate input file too; copy this as well\n",
    "# TODO This double input file requirement needs to be removed\n",
    "input_rel_2 = \"tests/integration/data/ref_IN.DAT\"\n",
    "copy(proj_dir / input_rel_2, temp_dir.name)\n",
    "\n",
    "# VaryRun uses process_config.py, which changes the current working directory\n",
    "# via os.chdir() to the temporary dir. Apart from being bad practice, once the\n",
    "# temp dir is removed, this causes Path.cwd() (as used in plot_scans.py) to\n",
    "# throw an exception when trying to return the (now deleted) CWD. Hence it\n",
    "# needs to be set back after VaryRun()\n",
    "# TODO Remove the os.chdir() from VaryRun\n",
    "cwd = Path.cwd()\n",
    "vary_run = VaryRun(str(temp_input_path))\n",
    "os.chdir(cwd)\n",
    "\n",
    "temp_dir.cleanup()\n"
   ]
  },
  {
   "cell_type": "markdown",
   "metadata": {},
   "source": [
    "## Plot scan\n",
    "Plot a scanned MFILE."
   ]
  },
  {
   "cell_type": "code",
   "execution_count": 9,
   "metadata": {},
   "outputs": [
    {
     "name": "stdout",
     "output_type": "stream",
     "text": [
      "WARNING: The sig_tf_wp_max variable LaTeX label is not defined\n",
      "WARNING: Please update the 'label' dict\n",
      "Warning : The thwcndut variable LaTeX label is not defined\n",
      "Warning : Please update the 'label' dict\n"
     ]
    },
    {
     "data": {
      "image/png": "[encoded data removed]",
      "text/plain": [
       "<Figure size 432x288 with 1 Axes>"
      ]
     },
     "metadata": {
      "needs_background": "light"
     },
     "output_type": "display_data"
    },
    {
     "data": {
      "text/plain": [
       "<Figure size 432x288 with 0 Axes>"
      ]
     },
     "metadata": {},
     "output_type": "display_data"
    }
   ],
   "source": [
    "from process.io import plot_scans\n",
    "\n",
    "# Define working directory relative to project dir and input file name\n",
    "input_rel = \"tests/integration/data/scan_MFILE.DAT\"\n",
    "temp_dir, temp_input_path = copy_to_temp_dir(input_rel)\n",
    "\n",
    "plot_scans.main(\n",
    "    args=[\n",
    "        \"-f\",\n",
    "        str(temp_input_path),\n",
    "        \"-yv\",\n",
    "        \"thwcndut\",\n",
    "        \"--outputdir\",\n",
    "        str(temp_input_path.parent),\n",
    "    ]\n",
    ")\n",
    "\n",
    "temp_dir.cleanup()\n"
   ]
  }
 ],
 "metadata": {
  "interpreter": {
   "hash": "95e8614a6e18ad6e528160ac32f08bcfa19db99daf3816cbd89c3976c3924301"
  },
  "kernelspec": {
   "display_name": "Python 3.8.10 64-bit ('.venv': venv)",
   "language": "python",
   "name": "python3"
  },
  "language_info": {
   "codemirror_mode": {
    "name": "ipython",
    "version": 3
   },
   "file_extension": ".py",
   "mimetype": "text/x-python",
   "name": "python",
   "nbconvert_exporter": "python",
   "pygments_lexer": "ipython3",
   "version": "3.8.10"
  },
  "orig_nbformat": 4
 },
 "nbformat": 4,
 "nbformat_minor": 2
}
