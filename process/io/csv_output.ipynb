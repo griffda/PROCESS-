{
 "cells": [
  {
   "cell_type": "markdown",
   "metadata": {
    "slideshow": {
     "slide_type": "slide"
    }
   },
   "source": [
    "# Output to csv\n",
    "\n",
    "Code to read from a PROCESS MFILE and write values into a csv.\n",
    "\n",
    "Input files:\n",
    "An MFILE.DAT as output from PROCESS\n",
    "A variable list (default mfile_to_csv_vars.json) as defined by user\n",
    "\n",
    "Instructions:\n",
    "- command line call: python mfile_to_csv.py -f </path/to/mfile.dat> -v </path/to/varfile.json>\n",
    "\n",
    "Output file:\n",
    ".csv will be saved to the directory of the input file\n"
   ]
  },
  {
   "cell_type": "code",
   "execution_count": 21,
   "metadata": {
    "slideshow": {
     "slide_type": "subslide"
    }
   },
   "outputs": [
    {
     "name": "stdout",
     "output_type": "stream",
     "text": [
      "Fetching list of variables from mfile_to_csv_vars.json\n",
      "Reading from MFILE: /home/rhicha/process/tests/regression/scenarios/baseline_jan_2017/ref.MFILE.DAT\n",
      "Variable 'capcost' not in MFILE. Skipping and moving on...\n",
      "Variable 'step2001' not in MFILE. Skipping and moving on...\n",
      "Variable 'step2115' not in MFILE. Skipping and moving on...\n",
      "Variable 'step2116' not in MFILE. Skipping and moving on...\n",
      "Variable 'step2117' not in MFILE. Skipping and moving on...\n",
      "Variable 'step2198' not in MFILE. Skipping and moving on...\n",
      "Variable 'step2199' not in MFILE. Skipping and moving on...\n",
      "Writing to csv file: /home/rhicha/process/tests/regression/scenarios/baseline_jan_2017/ref.MFILE.csv\n",
      "Complete.\n"
     ]
    }
   ],
   "source": [
    "# replace this path/to/MFILE.DAT with your target file:\n",
    "mfilename = '/home/rhicha/process/tests/regression/scenarios/baseline_jan_2017/ref.MFILE.DAT'\n",
    "#mfilename = '/home/rhicha/testing/SPR-045-like.MFILE.DAT'\n",
    "\n",
    "# if you have a different list of required outputs, specify it here\n",
    "varfilename = 'mfile_to_csv_vars.json'\n",
    "\n",
    "# call to function:\n",
    "from process.io import mfile_to_csv\n",
    "mfile_to_csv.main(args=[\"-f\", str(mfilename), \"-v\", str(varfilename)])\n"
   ]
  }
 ],
 "metadata": {
  "celltoolbar": "Slideshow",
  "interpreter": {
   "hash": "2b39e51c046bf6c3306ffb86d6add9e7c858c4c325822baa27448d1520edb182"
  },
  "kernelspec": {
   "display_name": "Python 3.8.5 64-bit ('env': venv)",
   "language": "python",
   "name": "python3"
  },
  "language_info": {
   "codemirror_mode": {
    "name": "ipython",
    "version": 3
   },
   "file_extension": ".py",
   "mimetype": "text/x-python",
   "name": "python",
   "nbconvert_exporter": "python",
   "pygments_lexer": "ipython3",
   "version": "3.8.5"
  }
 },
 "nbformat": 4,
 "nbformat_minor": 2
}
