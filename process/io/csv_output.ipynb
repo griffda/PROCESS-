{
 "cells": [
  {
   "cell_type": "markdown",
   "metadata": {
    "slideshow": {
     "slide_type": "slide"
    }
   },
   "source": [
    "# Output to csv\n",
    "\n",
    "Routine to read from a PROCESS MFILE and write specified values into a csv.\n",
    "\n",
    "Input files:\n",
    "- MFILE.DAT as output from PROCESS\n",
    "- .json variable list as defined by user (defaults to local `mfile_to_csv_vars.json`)\n",
    "\n",
    "Instructions:\n",
    "- from command line: `python mfile_to_csv.py -f </path/to/mfile.dat> -v </path/to/varfile.json>`\n",
    "- from this Jupyter notebook: run the cell below\n",
    "\n",
    "Output file:\n",
    "- .csv will be saved to the directory of the input file"
   ]
  },
  {
   "cell_type": "code",
   "execution_count": 8,
   "metadata": {
    "slideshow": {
     "slide_type": "subslide"
    }
   },
   "outputs": [
    {
     "name": "stdout",
     "output_type": "stream",
     "text": [
      "Fetching list of variables from /home/rhicha/process/process/io/mfile_to_csv_vars.json\n",
      "Reading from MFILE: /home/rhicha/process/tests/integration/data/baseline_2018_MFILE.DAT\n",
      "Variable 'capcost' not in MFILE. Skipping and moving on...\n",
      "Variable 'step2001' not in MFILE. Skipping and moving on...\n",
      "Variable 'step2115' not in MFILE. Skipping and moving on...\n",
      "Variable 'step2116' not in MFILE. Skipping and moving on...\n",
      "Variable 'step2117' not in MFILE. Skipping and moving on...\n",
      "Variable 'step2198' not in MFILE. Skipping and moving on...\n",
      "Variable 'step2199' not in MFILE. Skipping and moving on...\n",
      "Writing to csv file: /home/rhicha/process/tests/integration/data/baseline_2018_MFILE.csv\n",
      "Complete.\n"
     ]
    }
   ],
   "source": [
    "# This directory change is necessary for the example run and to read the default .json list;\n",
    "# these lines can be ignored if you replace both target filepaths below\n",
    "import os\n",
    "home_dir = os.getcwd(); os.chdir('../..'); mod_dir = os.getcwd()\n",
    "\n",
    "# Replace this path/to/MFILE.DAT with your target file:\n",
    "mfilename = str(mod_dir) + '/tests/integration/data/baseline_2018_MFILE.DAT'\n",
    "\n",
    "# If required, replace this with your own path/to/file.json target:\n",
    "varfilename = str(mod_dir) + '/process/io/mfile_to_csv_vars.json'\n",
    "# This routine attempts to find every variable in the given list and writes the variable name, description and value to the output csv.\n",
    "# Any listed variable that isn't in that MFILE will be skipped.\n",
    "\n",
    "# call to function:\n",
    "from process.io import mfile_to_csv\n",
    "\n",
    "try: \n",
    "    mfile_to_csv.main(args=[\"-f\", str(mfilename), \"-v\", str(varfilename)])\n",
    "finally: \n",
    "    os.chdir(home_dir) # reset to original working directory\n"
   ]
  }
 ],
 "metadata": {
  "celltoolbar": "Slideshow",
  "interpreter": {
   "hash": "2b39e51c046bf6c3306ffb86d6add9e7c858c4c325822baa27448d1520edb182"
  },
  "kernelspec": {
   "display_name": "Python 3.8.5 64-bit ('env': venv)",
   "language": "python",
   "name": "python3"
  },
  "language_info": {
   "codemirror_mode": {
    "name": "ipython",
    "version": 3
   },
   "file_extension": ".py",
   "mimetype": "text/x-python",
   "name": "python",
   "nbconvert_exporter": "python",
   "pygments_lexer": "ipython3",
   "version": "3.8.5"
  }
 },
 "nbformat": 4,
 "nbformat_minor": 2
}
